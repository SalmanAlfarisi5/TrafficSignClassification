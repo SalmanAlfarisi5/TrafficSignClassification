{
 "cells": [
  {
   "cell_type": "code",
   "execution_count": 5,
   "id": "0eb323ad",
   "metadata": {},
   "outputs": [
    {
     "name": "stderr",
     "output_type": "stream",
     "text": [
      "/home/salman/anaconda3/envs/GPU/lib/python3.10/site-packages/tqdm/auto.py:21: TqdmWarning: IProgress not found. Please update jupyter and ipywidgets. See https://ipywidgets.readthedocs.io/en/stable/user_install.html\n",
      "  from .autonotebook import tqdm as notebook_tqdm\n",
      "2025-06-23 21:34:20.282079: I tensorflow/core/util/port.cc:153] oneDNN custom operations are on. You may see slightly different numerical results due to floating-point round-off errors from different computation orders. To turn them off, set the environment variable `TF_ENABLE_ONEDNN_OPTS=0`.\n",
      "2025-06-23 21:34:20.289477: E external/local_xla/xla/stream_executor/cuda/cuda_fft.cc:467] Unable to register cuFFT factory: Attempting to register factory for plugin cuFFT when one has already been registered\n",
      "WARNING: All log messages before absl::InitializeLog() is called are written to STDERR\n",
      "E0000 00:00:1750685660.297273  117103 cuda_dnn.cc:8579] Unable to register cuDNN factory: Attempting to register factory for plugin cuDNN when one has already been registered\n",
      "E0000 00:00:1750685660.299553  117103 cuda_blas.cc:1407] Unable to register cuBLAS factory: Attempting to register factory for plugin cuBLAS when one has already been registered\n",
      "W0000 00:00:1750685660.306010  117103 computation_placer.cc:177] computation placer already registered. Please check linkage and avoid linking the same target more than once.\n",
      "W0000 00:00:1750685660.306022  117103 computation_placer.cc:177] computation placer already registered. Please check linkage and avoid linking the same target more than once.\n",
      "W0000 00:00:1750685660.306024  117103 computation_placer.cc:177] computation placer already registered. Please check linkage and avoid linking the same target more than once.\n",
      "W0000 00:00:1750685660.306025  117103 computation_placer.cc:177] computation placer already registered. Please check linkage and avoid linking the same target more than once.\n",
      "2025-06-23 21:34:20.308416: I tensorflow/core/platform/cpu_feature_guard.cc:210] This TensorFlow binary is optimized to use available CPU instructions in performance-critical operations.\n",
      "To enable the following instructions: AVX2 AVX_VNNI FMA, in other operations, rebuild TensorFlow with the appropriate compiler flags.\n"
     ]
    }
   ],
   "source": [
    "import torch\n",
    "import torch.nn as nn\n",
    "import torch.optim as optim\n",
    "from torch.utils.data import Dataset, DataLoader, random_split\n",
    "import torch.nn.functional as F\n",
    "import matplotlib.pyplot as plt\n",
    "import pickle\n",
    "from tqdm import tqdm\n",
    "import evaluate"
   ]
  },
  {
   "cell_type": "code",
   "execution_count": 6,
   "id": "038d4692",
   "metadata": {},
   "outputs": [],
   "source": [
    "# Device\n",
    "device = torch.device(\"cuda\" if torch.cuda.is_available() else \"cpu\")"
   ]
  },
  {
   "cell_type": "code",
   "execution_count": 7,
   "id": "a486a550",
   "metadata": {},
   "outputs": [],
   "source": [
    "# ---------------- Dataset ----------------\n",
    "class TrafficSignDataset(Dataset):\n",
    "    def __init__(self, data):\n",
    "        self.data = data\n",
    "    def __len__(self):\n",
    "        return len(self.data)\n",
    "    def __getitem__(self, idx):\n",
    "        img, label = self.data[idx]\n",
    "        return img, label\n",
    "\n",
    "with open(\"train_tensor_data.pkl\", \"rb\") as f:\n",
    "    train_data = pickle.load(f)\n",
    "with open(\"test_tensor_data.pkl\", \"rb\") as f:\n",
    "    test_data = pickle.load(f)\n",
    "\n",
    "# Wrap as Dataset\n",
    "full_train_dataset = TrafficSignDataset(train_data)\n",
    "test_dataset = TrafficSignDataset(test_data)\n",
    "\n",
    "# Split train/val\n",
    "train_size = int(0.8 * len(full_train_dataset))\n",
    "val_size = len(full_train_dataset) - train_size\n",
    "train_dataset, val_dataset = random_split(full_train_dataset, [train_size, val_size])\n",
    "\n",
    "train_loader = DataLoader(train_dataset, batch_size=32, shuffle=True)\n",
    "val_loader = DataLoader(val_dataset, batch_size=32)\n",
    "test_loader = DataLoader(test_dataset, batch_size=32)"
   ]
  },
  {
   "cell_type": "code",
   "execution_count": 8,
   "id": "bec66022",
   "metadata": {},
   "outputs": [],
   "source": [
    "# ---------------- CNN Model ----------------\n",
    "class ScratchCNN(nn.Module):\n",
    "    def __init__(self):\n",
    "        super(ScratchCNN, self).__init__()\n",
    "        self.conv1 = nn.Conv2d(3, 32, kernel_size=3, padding=1)\n",
    "        self.conv2 = nn.Conv2d(32, 64, kernel_size=3, padding=1)\n",
    "        self.conv3 = nn.Conv2d(64, 128, kernel_size=3, padding=1)\n",
    "        self.pool = nn.MaxPool2d(2, 2)\n",
    "\n",
    "        self.fc1 = nn.Linear(128 * 28 * 28, 512)\n",
    "        self.dropout = nn.Dropout(0.5)\n",
    "        self.fc2 = nn.Linear(512, 23)\n",
    "\n",
    "    def forward(self, x):\n",
    "        x = self.pool(F.relu(self.conv1(x)))  # 112x112\n",
    "        x = self.pool(F.relu(self.conv2(x)))  # 56x56\n",
    "        x = self.pool(F.relu(self.conv3(x)))  # 28x28\n",
    "        x = x.view(x.size(0), -1)             # Flatten\n",
    "        x = F.relu(self.fc1(x))\n",
    "        x = self.dropout(x)\n",
    "        x = self.fc2(x)\n",
    "        return x"
   ]
  },
  {
   "cell_type": "code",
   "execution_count": 9,
   "id": "f2796f88",
   "metadata": {},
   "outputs": [],
   "source": [
    "# ---------------- Train Function ----------------\n",
    "def train_model(model, epochs=10, lr=1e-3):\n",
    "    criterion = nn.CrossEntropyLoss()\n",
    "    optimizer = optim.Adam(model.parameters(), lr=lr)\n",
    "\n",
    "    best_train_acc = 0\n",
    "    best_val_acc = 0\n",
    "    train_accs, val_accs = [], []\n",
    "\n",
    "    for epoch in range(epochs):\n",
    "        model.train()\n",
    "        correct, total = 0, 0\n",
    "        for x, y in tqdm(train_loader, desc=f\"Epoch {epoch+1}/{epochs}\"):\n",
    "            x, y = x.to(device), y.to(device)\n",
    "            optimizer.zero_grad()\n",
    "            preds = model(x)\n",
    "            loss = criterion(preds, y)\n",
    "            loss.backward()\n",
    "            optimizer.step()\n",
    "\n",
    "            correct += (preds.argmax(1) == y).sum().item()\n",
    "            total += y.size(0)\n",
    "        acc = correct / total\n",
    "        train_accs.append(acc)\n",
    "        best_train_acc = max(best_train_acc, acc)\n",
    "\n",
    "        model.eval()\n",
    "        correct, total = 0, 0\n",
    "        with torch.no_grad():\n",
    "            for x, y in val_loader:\n",
    "                x, y = x.to(device), y.to(device)\n",
    "                preds = model(x)\n",
    "                correct += (preds.argmax(1) == y).sum().item()\n",
    "                total += y.size(0)\n",
    "        acc = correct / total\n",
    "        val_accs.append(acc)\n",
    "        best_val_acc = max(best_val_acc, acc)\n",
    "\n",
    "    return train_accs, val_accs, best_train_acc, best_val_acc"
   ]
  },
  {
   "cell_type": "code",
   "execution_count": 14,
   "id": "cb921f1b",
   "metadata": {},
   "outputs": [
    {
     "name": "stderr",
     "output_type": "stream",
     "text": [
      "Epoch 1/20: 100%|██████████| 98/98 [00:04<00:00, 23.92it/s]\n",
      "Epoch 2/20: 100%|██████████| 98/98 [00:04<00:00, 23.98it/s]\n",
      "Epoch 3/20: 100%|██████████| 98/98 [00:04<00:00, 24.12it/s]\n",
      "Epoch 4/20: 100%|██████████| 98/98 [00:04<00:00, 24.22it/s]\n",
      "Epoch 5/20: 100%|██████████| 98/98 [00:04<00:00, 24.25it/s]\n",
      "Epoch 6/20: 100%|██████████| 98/98 [00:04<00:00, 23.94it/s]\n",
      "Epoch 7/20: 100%|██████████| 98/98 [00:04<00:00, 24.20it/s]\n",
      "Epoch 8/20: 100%|██████████| 98/98 [00:04<00:00, 24.22it/s]\n",
      "Epoch 9/20: 100%|██████████| 98/98 [00:04<00:00, 24.06it/s]\n",
      "Epoch 10/20: 100%|██████████| 98/98 [00:04<00:00, 24.21it/s]\n",
      "Epoch 11/20: 100%|██████████| 98/98 [00:04<00:00, 24.15it/s]\n",
      "Epoch 12/20: 100%|██████████| 98/98 [00:04<00:00, 24.19it/s]\n",
      "Epoch 13/20: 100%|██████████| 98/98 [00:04<00:00, 24.18it/s]\n",
      "Epoch 14/20: 100%|██████████| 98/98 [00:04<00:00, 24.10it/s]\n",
      "Epoch 15/20: 100%|██████████| 98/98 [00:04<00:00, 24.12it/s]\n",
      "Epoch 16/20: 100%|██████████| 98/98 [00:04<00:00, 23.77it/s]\n",
      "Epoch 17/20: 100%|██████████| 98/98 [00:04<00:00, 23.79it/s]\n",
      "Epoch 18/20: 100%|██████████| 98/98 [00:04<00:00, 23.78it/s]\n",
      "Epoch 19/20: 100%|██████████| 98/98 [00:04<00:00, 23.81it/s]\n",
      "Epoch 20/20: 100%|██████████| 98/98 [00:04<00:00, 23.79it/s]\n"
     ]
    }
   ],
   "source": [
    "# ---------------- Train & Test ----------------\n",
    "model = ScratchCNN().to(device)\n",
    "train_accs, val_accs, best_train, best_val = train_model(model, epochs=20, lr=1e-3)\n",
    "\n",
    "# Evaluate on test set using evaluate library\n",
    "accuracy_metric = evaluate.load(\"accuracy\")\n",
    "model.eval()\n",
    "all_preds = []\n",
    "all_labels = []\n",
    "with torch.no_grad():\n",
    "\tfor x, y in test_loader:\n",
    "\t\tx = x.to(device)\n",
    "\t\tpreds = model(x)\n",
    "\t\tall_preds.extend(preds.argmax(1).cpu().numpy())\n",
    "\t\tall_labels.extend(y.cpu().numpy())\n",
    "test_acc = accuracy_metric.compute(predictions=all_preds, references=all_labels)[\"accuracy\"]"
   ]
  },
  {
   "cell_type": "code",
   "execution_count": 15,
   "id": "43d3e1a4",
   "metadata": {},
   "outputs": [
    {
     "data": {
      "image/png": "[encoded data removed]",
      "text/plain": [
       "<Figure size 640x480 with 1 Axes>"
      ]
     },
     "metadata": {},
     "output_type": "display_data"
    }
   ],
   "source": [
    "# ---------------- Plot ----------------\n",
    "plt.plot(train_accs, label=\"Train (Scratch CNN)\")\n",
    "plt.plot(val_accs, label=\"Val (Scratch CNN)\")\n",
    "plt.xlabel(\"Epochs\")\n",
    "plt.ylabel(\"Accuracy\")\n",
    "plt.title(\"Scratch CNN Training & Validation Accuracy\")\n",
    "plt.legend()\n",
    "plt.grid(True)\n",
    "plt.show()"
   ]
  },
  {
   "cell_type": "code",
   "execution_count": 16,
   "id": "0d41b7a3",
   "metadata": {},
   "outputs": [
    {
     "name": "stdout",
     "output_type": "stream",
     "text": [
      "Best Train Accuracy: 0.9888\n",
      "Best Val Accuracy:   0.9399\n",
      "Test Accuracy:       0.9442\n"
     ]
    }
   ],
   "source": [
    "# ---------------- Report ----------------\n",
    "print(f\"Best Train Accuracy: {best_train:.4f}\")\n",
    "print(f\"Best Val Accuracy:   {best_val:.4f}\")\n",
    "print(f\"Test Accuracy:       {test_acc:.4f}\")"
   ]
  }
 ],
 "metadata": {
  "kernelspec": {
   "display_name": "GPU",
   "language": "python",
   "name": "python3"
  },
  "language_info": {
   "codemirror_mode": {
    "name": "ipython",
    "version": 3
   },
   "file_extension": ".py",
   "mimetype": "text/x-python",
   "name": "python",
   "nbconvert_exporter": "python",
   "pygments_lexer": "ipython3",
   "version": "3.10.16"
  }
 },
 "nbformat": 4,
 "nbformat_minor": 5
}
